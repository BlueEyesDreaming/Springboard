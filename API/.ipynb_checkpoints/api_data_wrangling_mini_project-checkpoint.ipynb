{
 "cells": [
  {
   "cell_type": "markdown",
   "metadata": {},
   "source": [
    "This exercise will require you to pull some data from the Quandl API. Quandl is currently the most widely used aggregator of financial market data."
   ]
  },
  {
   "cell_type": "markdown",
   "metadata": {},
   "source": [
    "As a first step, you will need to register a free account on the http://www.quandl.com website."
   ]
  },
  {
   "cell_type": "markdown",
   "metadata": {},
   "source": [
    "After you register, you will be provided with a unique API key, that you should store:"
   ]
  },
  {
   "cell_type": "code",
   "execution_count": 1,
   "metadata": {},
   "outputs": [],
   "source": [
    "# Store the API key as a string - according to PEP8, constants are always named in all upper case\n",
    "API_KEY = ''"
   ]
  },
  {
   "cell_type": "markdown",
   "metadata": {},
   "source": [
    "Quandl has a large number of data sources, but, unfortunately, most of them require a Premium subscription. Still, there are also a good number of free datasets."
   ]
  },
  {
   "cell_type": "markdown",
   "metadata": {},
   "source": [
    "For this mini project, we will focus on equities data from the Frankfurt Stock Exhange (FSE), which is available for free. We'll try and analyze the stock prices of a company called Carl Zeiss Meditec, which manufactures tools for eye examinations, as well as medical lasers for laser eye surgery: https://www.zeiss.com/meditec/int/home.html. The company is listed under the stock ticker AFX_X."
   ]
  },
  {
   "cell_type": "markdown",
   "metadata": {},
   "source": [
    "You can find the detailed Quandl API instructions here: https://docs.quandl.com/docs/time-series"
   ]
  },
  {
   "cell_type": "markdown",
   "metadata": {},
   "source": [
    "While there is a dedicated Python package for connecting to the Quandl API, we would prefer that you use the *requests* package, which can be easily downloaded using *pip* or *conda*. You can find the documentation for the package here: http://docs.python-requests.org/en/master/ "
   ]
  },
  {
   "cell_type": "markdown",
   "metadata": {},
   "source": [
    "Finally, apart from the *requests* package, you are encouraged to not use any third party Python packages, such as *pandas*, and instead focus on what's available in the Python Standard Library (the *collections* module might come in handy: https://pymotw.com/3/collections/ ).\n",
    "Also, since you won't have access to DataFrames, you are encouraged to us Python's native data structures - preferably dictionaries, though some questions can also be answered using lists.\n",
    "You can read more on these data structures here: https://docs.python.org/3/tutorial/datastructures.html"
   ]
  },
  {
   "cell_type": "markdown",
   "metadata": {},
   "source": [
    "Keep in mind that the JSON responses you will be getting from the API map almost one-to-one to Python's dictionaries. Unfortunately, they can be very nested, so make sure you read up on indexing dictionaries in the documentation provided above."
   ]
  },
  {
   "cell_type": "code",
   "execution_count": 2,
   "metadata": {},
   "outputs": [],
   "source": [
    "# First, import the relevant modules\n",
    "import requests\n",
    "import json\n",
    "import collections"
   ]
  },
  {
   "cell_type": "code",
   "execution_count": 3,
   "metadata": {},
   "outputs": [],
   "source": [
    "# Now, call the Quandl API and pull out a small sample of the data (only one day) to get a glimpse\n",
    "# into the JSON structure that will be returned\n",
    "# Parameters\n",
    "url = 'https://www.quandl.com/api/v3/datasets/FSE/AFX_X.json?'\n",
    "test_start_date = 'start_date=2020-03-20'\n",
    "test_end_date = 'end_date=2020-03-20'\n",
    "call = 'api_key='\n",
    "\n",
    "\n",
    "testRes = requests.get(url  + test_start_date + '&' + test_end_date + '&' + call + API_KEY)"
   ]
  },
  {
   "cell_type": "code",
   "execution_count": 4,
   "metadata": {},
   "outputs": [
    {
     "data": {
      "text/plain": [
       "{'dataset': {'id': 10095370,\n",
       "  'dataset_code': 'AFX_X',\n",
       "  'database_code': 'FSE',\n",
       "  'name': 'Carl Zeiss Meditec (AFX_X)',\n",
       "  'description': 'Stock Prices for Carl Zeiss Meditec (2020-05-26) from the Frankfurt Stock Exchange.<br><br>Trading System: Xetra<br><br>ISIN: DE0005313704',\n",
       "  'refreshed_at': '2020-06-09T22:16:20.197Z',\n",
       "  'newest_available_date': '2020-06-09',\n",
       "  'oldest_available_date': '2000-06-07',\n",
       "  'column_names': ['Date',\n",
       "   'Open',\n",
       "   'High',\n",
       "   'Low',\n",
       "   'Close',\n",
       "   'Change',\n",
       "   'Traded Volume',\n",
       "   'Turnover',\n",
       "   'Last Price of the Day',\n",
       "   'Daily Traded Units',\n",
       "   'Daily Turnover'],\n",
       "  'frequency': 'daily',\n",
       "  'type': 'Time Series',\n",
       "  'premium': False,\n",
       "  'limit': None,\n",
       "  'transform': None,\n",
       "  'column_index': None,\n",
       "  'start_date': '2020-03-20',\n",
       "  'end_date': '2020-03-20',\n",
       "  'data': [['2020-03-20',\n",
       "    76.65,\n",
       "    82.35,\n",
       "    75.7,\n",
       "    78.25,\n",
       "    None,\n",
       "    446534.0,\n",
       "    34997042.95,\n",
       "    None,\n",
       "    None,\n",
       "    None]],\n",
       "  'collapse': None,\n",
       "  'order': None,\n",
       "  'database_id': 6129}}"
      ]
     },
     "execution_count": 4,
     "metadata": {},
     "output_type": "execute_result"
    }
   ],
   "source": [
    "# Inspect the JSON structure of the object you created, and take note of how nested it is,\n",
    "# as well as the overall structure\n",
    "testJson = testRes.json()\n",
    "testJson"
   ]
  },
  {
   "cell_type": "markdown",
   "metadata": {},
   "source": [
    "These are your tasks for this mini project:\n",
    "\n",
    "1. Collect data from the Franfurt Stock Exchange, for the ticker AFX_X, for the whole year 2017 (keep in mind that the date format is YYYY-MM-DD).\n",
    "2. Convert the returned JSON object into a Python dictionary.\n",
    "3. Calculate what the highest and lowest opening prices were for the stock in this period.\n",
    "4. What was the largest change in any one day (based on High and Low price)?\n",
    "5. What was the largest change between any two days (based on Closing Price)?\n",
    "6. What was the average daily trading volume during this year?\n",
    "7. (Optional) What was the median trading volume during this year. (Note: you may need to implement your own function for calculating the median.)"
   ]
  },
  {
   "cell_type": "markdown",
   "metadata": {},
   "source": [
    "1. Collect data from the Franfurt Stock Exchange, for the ticker AFX_X, for the whole year 2017 (keep in mind that the date format is YYYY-MM-DD)."
   ]
  },
  {
   "cell_type": "code",
   "execution_count": 5,
   "metadata": {},
   "outputs": [],
   "source": [
    "url = 'https://www.quandl.com/api/v3/datasets/FSE/AFX_X.json?'\n",
    "start_date = 'start_date=2017-01-01'\n",
    "end_date = 'end_date=2017-12-31'\n",
    "call = 'api_key='\n",
    "\n",
    "res = requests.get(url  + start_date + '&' + end_date + '&' + call + API_KEY)"
   ]
  },
  {
   "cell_type": "markdown",
   "metadata": {},
   "source": [
    "2. Convert the returned JSON object into a Python dictionary."
   ]
  },
  {
   "cell_type": "code",
   "execution_count": 6,
   "metadata": {},
   "outputs": [],
   "source": [
    "q_dict = res.json()\n",
    "assert(type(q_dict) == dict)"
   ]
  },
  {
   "cell_type": "markdown",
   "metadata": {},
   "source": [
    "3. Calculate what the highest and lowest opening prices were for the stock in this period."
   ]
  },
  {
   "cell_type": "code",
   "execution_count": 7,
   "metadata": {},
   "outputs": [
    {
     "name": "stdout",
     "output_type": "stream",
     "text": [
      "The highest opening price during this period was $53.11. \n",
      "The lowest opening price was $34.00.\n"
     ]
    }
   ],
   "source": [
    "# We see that the columns names can be found in q_dict['dataset']['column_names'], and that \"Open\" is at i=1\n",
    "open_price = [(q_dict['dataset']['data'][x][1]) \n",
    "              for x in range(len(q_dict['dataset']['data'])) \n",
    "              if q_dict['dataset']['data'][x][1] is not None]\n",
    "max_open = format(max(open_price), '.2f')\n",
    "min_open = format(min(open_price), '.2f')\n",
    "\n",
    "print('The highest opening price during this period was $' + str(max_open) + '. \\nThe lowest opening price was $' \n",
    "+ str(min_open) + '.')"
   ]
  },
  {
   "cell_type": "markdown",
   "metadata": {},
   "source": [
    "4. What was the largest change in any one day (based on High and Low price)?"
   ]
  },
  {
   "cell_type": "code",
   "execution_count": 8,
   "metadata": {},
   "outputs": [
    {
     "name": "stdout",
     "output_type": "stream",
     "text": [
      "The largest change in a single day was $2.81.\n"
     ]
    }
   ],
   "source": [
    "# We see that the columns names can be found in q_dict['dataset']['column_names'], and that \"High\" is at i=2\n",
    "# and \"Low\" is at i=3\n",
    "day_diff = [(q_dict['dataset']['data'][x][2] - q_dict['dataset']['data'][x][3]) \n",
    "            for x in range(len(q_dict['dataset']['data'])) \n",
    "            if q_dict['dataset']['data'][x][2] is not None\n",
    "            and q_dict['dataset']['data'][x][3] is not None]\n",
    "\n",
    "largest_day_change = max(day_diff)\n",
    "\n",
    "print('The largest change in a single day was $%.2f.' % largest_day_change)"
   ]
  },
  {
   "cell_type": "markdown",
   "metadata": {},
   "source": [
    "5. What was the largest change between any two days (based on Closing Price)?"
   ]
  },
  {
   "cell_type": "code",
   "execution_count": 9,
   "metadata": {},
   "outputs": [
    {
     "name": "stdout",
     "output_type": "stream",
     "text": [
      "The largest change between any two days based on Closing Price was $2.56.\n"
     ]
    }
   ],
   "source": [
    "# We see that the columns names can be found in q_dict['dataset']['column_names'], and that \"Close\" is at i=4\n",
    "day_diff = [abs(q_dict['dataset']['data'][x-1][4] - q_dict['dataset']['data'][x][4]) \n",
    "                 for x in range(1, len(q_dict['dataset']['data']))\n",
    "            if (q_dict['dataset']['data'][x-1][4] is not None and q_dict['dataset']['data'][x][4] is not None)]\n",
    "\n",
    "\n",
    "largest_two_day_change = format(max(day_diff), '.2f')\n",
    "\n",
    "print(\"The largest change between any two days based on Closing Price was $\" + largest_two_day_change + \".\")"
   ]
  },
  {
   "cell_type": "markdown",
   "metadata": {},
   "source": [
    "6. What was the average daily trading volume during this year?"
   ]
  },
  {
   "cell_type": "code",
   "execution_count": 10,
   "metadata": {
    "scrolled": true
   },
   "outputs": [
    {
     "name": "stdout",
     "output_type": "stream",
     "text": [
      "The average daily trading volume in 2017 was 89124 trades.\n"
     ]
    }
   ],
   "source": [
    "# We see that the columns names can be found in q_dict['dataset']['column_names'], \n",
    "# and that \"Traded Volume\" is at i=6\n",
    "trading_vol = [q_dict['dataset']['data'][x][6] for x in range(len(q_dict['dataset']['data']))\n",
    "              if (type(q_dict['dataset']['data'][x][1])) == float or int]\n",
    "\n",
    "def avg(vol_list): \n",
    "    return sum(vol_list) / len(vol_list) \n",
    "\n",
    "avg_vol = avg(trading_vol)\n",
    "\n",
    "print('The average daily trading volume in 2017 was %.0f trades.'% avg_vol)"
   ]
  },
  {
   "cell_type": "markdown",
   "metadata": {},
   "source": [
    "7. (Optional) What was the median trading volume during this year. (Note: you may need to implement your own function for calculating the median.)"
   ]
  },
  {
   "cell_type": "code",
   "execution_count": 11,
   "metadata": {},
   "outputs": [
    {
     "name": "stdout",
     "output_type": "stream",
     "text": [
      "The median daily trading volume in 2017 was 76286 trades.\n"
     ]
    }
   ],
   "source": [
    "# We solve this using trading_vol from Question #6 above.\n",
    "def median(vol_list): \n",
    "    sorted_list = sorted(vol_list)\n",
    "    list_len = len(sorted_list)\n",
    "\n",
    "    if (list_len % 2 == 0):\n",
    "        median = (sorted_list[int(list_len/2) - 1] + sorted_list[int(list_len/2)])/2\n",
    "    else:   \n",
    "        median = sorted_list[int(list_len/2)]\n",
    "    return median\n",
    "\n",
    "med_vol = median(trading_vol)\n",
    "\n",
    "print('The median daily trading volume in 2017 was %.0f trades.'% med_vol)"
   ]
  }
 ],
 "metadata": {
  "kernelspec": {
   "display_name": "Python 3",
   "language": "python",
   "name": "python3"
  },
  "language_info": {
   "codemirror_mode": {
    "name": "ipython",
    "version": 3
   },
   "file_extension": ".py",
   "mimetype": "text/x-python",
   "name": "python",
   "nbconvert_exporter": "python",
   "pygments_lexer": "ipython3",
   "version": "3.7.3"
  }
 },
 "nbformat": 4,
 "nbformat_minor": 2
}
