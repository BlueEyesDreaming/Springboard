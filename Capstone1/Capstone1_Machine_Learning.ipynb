{
 "cells": [
  {
   "cell_type": "code",
   "execution_count": 1,
   "metadata": {},
   "outputs": [],
   "source": [
    "import pandas as pd\n",
    "import numpy as np\n",
    "import matplotlib.pyplot as plt\n",
    "import seaborn as sns\n",
    "%matplotlib inline\n",
    "from time import sleep\n",
    "from tqdm import tqdm\n",
    "import scipy\n",
    "from scipy import stats\n",
    "import scipy.stats\n",
    "from sklearn.linear_model import LinearRegression, Ridge, Lasso\n",
    "from sklearn.metrics import mean_squared_error\n",
    "from sklearn.model_selection import train_test_split, cross_val_score, GridSearchCV\n",
    "from sklearn.preprocessing import scale, StandardScaler\n",
    "from sklearn.pipeline import Pipeline\n",
    "\n",
    "from xgboost import plot_importance"
   ]
  },
  {
   "cell_type": "code",
   "execution_count": 2,
   "metadata": {},
   "outputs": [
    {
     "data": {
      "text/html": [
       "<div>\n",
       "<style scoped>\n",
       "    .dataframe tbody tr th:only-of-type {\n",
       "        vertical-align: middle;\n",
       "    }\n",
       "\n",
       "    .dataframe tbody tr th {\n",
       "        vertical-align: top;\n",
       "    }\n",
       "\n",
       "    .dataframe thead th {\n",
       "        text-align: right;\n",
       "    }\n",
       "</style>\n",
       "<table border=\"1\" class=\"dataframe\">\n",
       "  <thead>\n",
       "    <tr style=\"text-align: right;\">\n",
       "      <th></th>\n",
       "      <th>country</th>\n",
       "      <th>year</th>\n",
       "      <th>World bank region</th>\n",
       "      <th>World bank, 4 income groups 2017</th>\n",
       "      <th>Adjusted savings: mineral depletion (current US$)</th>\n",
       "      <th>Adjusted savings: energy depletion (current US$)</th>\n",
       "      <th>Population (Total)</th>\n",
       "      <th>Population growth (annual %)</th>\n",
       "      <th>Population density (people per sq. km of land area)</th>\n",
       "      <th>Rural population (% of total population)</th>\n",
       "      <th>Urban population (% of total)</th>\n",
       "      <th>Rural population</th>\n",
       "      <th>Urban population</th>\n",
       "      <th>Urban population growth (annual %)</th>\n",
       "      <th>Urban population 5 years in the future</th>\n",
       "    </tr>\n",
       "  </thead>\n",
       "  <tbody>\n",
       "    <tr>\n",
       "      <th>0</th>\n",
       "      <td>Afghanistan</td>\n",
       "      <td>1972</td>\n",
       "      <td>South Asia</td>\n",
       "      <td>Low income</td>\n",
       "      <td>0.000000e+00</td>\n",
       "      <td>2.233065e+07</td>\n",
       "      <td>11644377.0</td>\n",
       "      <td>2.794796</td>\n",
       "      <td>17.853176</td>\n",
       "      <td>88.0702</td>\n",
       "      <td>11.9298</td>\n",
       "      <td>10255226.0</td>\n",
       "      <td>1389151.0</td>\n",
       "      <td>6.634620</td>\n",
       "      <td>1855690</td>\n",
       "    </tr>\n",
       "    <tr>\n",
       "      <th>1</th>\n",
       "      <td>Afghanistan</td>\n",
       "      <td>1973</td>\n",
       "      <td>South Asia</td>\n",
       "      <td>Low income</td>\n",
       "      <td>0.000000e+00</td>\n",
       "      <td>2.654146e+07</td>\n",
       "      <td>11966352.0</td>\n",
       "      <td>2.727531</td>\n",
       "      <td>18.346829</td>\n",
       "      <td>87.6208</td>\n",
       "      <td>12.3792</td>\n",
       "      <td>10485013.0</td>\n",
       "      <td>1481339.0</td>\n",
       "      <td>6.425364</td>\n",
       "      <td>1942479</td>\n",
       "    </tr>\n",
       "    <tr>\n",
       "      <th>2</th>\n",
       "      <td>Afghanistan</td>\n",
       "      <td>1974</td>\n",
       "      <td>South Asia</td>\n",
       "      <td>Low income</td>\n",
       "      <td>0.000000e+00</td>\n",
       "      <td>6.606462e+07</td>\n",
       "      <td>12273589.0</td>\n",
       "      <td>2.535101</td>\n",
       "      <td>18.817885</td>\n",
       "      <td>87.1714</td>\n",
       "      <td>12.8286</td>\n",
       "      <td>10699059.0</td>\n",
       "      <td>1574530.0</td>\n",
       "      <td>6.101041</td>\n",
       "      <td>2014500</td>\n",
       "    </tr>\n",
       "    <tr>\n",
       "      <th>3</th>\n",
       "      <td>Afghanistan</td>\n",
       "      <td>1975</td>\n",
       "      <td>South Asia</td>\n",
       "      <td>Low income</td>\n",
       "      <td>0.000000e+00</td>\n",
       "      <td>6.882184e+07</td>\n",
       "      <td>12551790.0</td>\n",
       "      <td>2.241357</td>\n",
       "      <td>19.244423</td>\n",
       "      <td>86.7220</td>\n",
       "      <td>13.2780</td>\n",
       "      <td>10885163.0</td>\n",
       "      <td>1666627.0</td>\n",
       "      <td>5.684501</td>\n",
       "      <td>2066033</td>\n",
       "    </tr>\n",
       "    <tr>\n",
       "      <th>4</th>\n",
       "      <td>Afghanistan</td>\n",
       "      <td>1976</td>\n",
       "      <td>South Asia</td>\n",
       "      <td>Low income</td>\n",
       "      <td>0.000000e+00</td>\n",
       "      <td>6.463635e+07</td>\n",
       "      <td>12806810.0</td>\n",
       "      <td>2.011378</td>\n",
       "      <td>19.635420</td>\n",
       "      <td>86.2426</td>\n",
       "      <td>13.7574</td>\n",
       "      <td>11044926.0</td>\n",
       "      <td>1761884.0</td>\n",
       "      <td>5.558187</td>\n",
       "      <td>2064276</td>\n",
       "    </tr>\n",
       "    <tr>\n",
       "      <th>...</th>\n",
       "      <td>...</td>\n",
       "      <td>...</td>\n",
       "      <td>...</td>\n",
       "      <td>...</td>\n",
       "      <td>...</td>\n",
       "      <td>...</td>\n",
       "      <td>...</td>\n",
       "      <td>...</td>\n",
       "      <td>...</td>\n",
       "      <td>...</td>\n",
       "      <td>...</td>\n",
       "      <td>...</td>\n",
       "      <td>...</td>\n",
       "      <td>...</td>\n",
       "      <td>...</td>\n",
       "    </tr>\n",
       "    <tr>\n",
       "      <th>6463</th>\n",
       "      <td>Zimbabwe</td>\n",
       "      <td>1998</td>\n",
       "      <td>Sub-Saharan Africa</td>\n",
       "      <td>Low income</td>\n",
       "      <td>3.574371e+06</td>\n",
       "      <td>2.922644e+06</td>\n",
       "      <td>12229500.0</td>\n",
       "      <td>1.513394</td>\n",
       "      <td>31.613028</td>\n",
       "      <td>67.0524</td>\n",
       "      <td>32.9476</td>\n",
       "      <td>8200173.0</td>\n",
       "      <td>4029327.0</td>\n",
       "      <td>2.750848</td>\n",
       "      <td>4438019</td>\n",
       "    </tr>\n",
       "    <tr>\n",
       "      <th>6464</th>\n",
       "      <td>Zimbabwe</td>\n",
       "      <td>1999</td>\n",
       "      <td>Sub-Saharan Africa</td>\n",
       "      <td>Low income</td>\n",
       "      <td>1.121581e+07</td>\n",
       "      <td>0.000000e+00</td>\n",
       "      <td>12384727.0</td>\n",
       "      <td>1.261295</td>\n",
       "      <td>32.014287</td>\n",
       "      <td>66.6472</td>\n",
       "      <td>33.3528</td>\n",
       "      <td>8254074.0</td>\n",
       "      <td>4130653.0</td>\n",
       "      <td>2.483614</td>\n",
       "      <td>4498365</td>\n",
       "    </tr>\n",
       "    <tr>\n",
       "      <th>6465</th>\n",
       "      <td>Zimbabwe</td>\n",
       "      <td>2000</td>\n",
       "      <td>Sub-Saharan Africa</td>\n",
       "      <td>Low income</td>\n",
       "      <td>2.259094e+07</td>\n",
       "      <td>1.635434e+06</td>\n",
       "      <td>12503652.0</td>\n",
       "      <td>0.955674</td>\n",
       "      <td>32.321706</td>\n",
       "      <td>66.2420</td>\n",
       "      <td>33.7580</td>\n",
       "      <td>8282669.0</td>\n",
       "      <td>4220983.0</td>\n",
       "      <td>2.163253</td>\n",
       "      <td>4558017</td>\n",
       "    </tr>\n",
       "    <tr>\n",
       "      <th>6466</th>\n",
       "      <td>Zimbabwe</td>\n",
       "      <td>2001</td>\n",
       "      <td>Sub-Saharan Africa</td>\n",
       "      <td>Low income</td>\n",
       "      <td>1.491629e+07</td>\n",
       "      <td>2.523939e+07</td>\n",
       "      <td>12586763.0</td>\n",
       "      <td>0.662494</td>\n",
       "      <td>32.536546</td>\n",
       "      <td>65.8216</td>\n",
       "      <td>34.1784</td>\n",
       "      <td>8284809.0</td>\n",
       "      <td>4301954.0</td>\n",
       "      <td>1.900130</td>\n",
       "      <td>4620705</td>\n",
       "    </tr>\n",
       "    <tr>\n",
       "      <th>6467</th>\n",
       "      <td>Zimbabwe</td>\n",
       "      <td>2002</td>\n",
       "      <td>Sub-Saharan Africa</td>\n",
       "      <td>Low income</td>\n",
       "      <td>2.946757e+07</td>\n",
       "      <td>6.534920e+06</td>\n",
       "      <td>12640922.0</td>\n",
       "      <td>0.429362</td>\n",
       "      <td>32.676546</td>\n",
       "      <td>65.4012</td>\n",
       "      <td>34.5988</td>\n",
       "      <td>8267315.0</td>\n",
       "      <td>4373607.0</td>\n",
       "      <td>1.651873</td>\n",
       "      <td>4684302</td>\n",
       "    </tr>\n",
       "  </tbody>\n",
       "</table>\n",
       "<p>6468 rows × 15 columns</p>\n",
       "</div>"
      ],
      "text/plain": [
       "          country  year   World bank region World bank, 4 income groups 2017  \\\n",
       "0     Afghanistan  1972          South Asia                       Low income   \n",
       "1     Afghanistan  1973          South Asia                       Low income   \n",
       "2     Afghanistan  1974          South Asia                       Low income   \n",
       "3     Afghanistan  1975          South Asia                       Low income   \n",
       "4     Afghanistan  1976          South Asia                       Low income   \n",
       "...           ...   ...                 ...                              ...   \n",
       "6463     Zimbabwe  1998  Sub-Saharan Africa                       Low income   \n",
       "6464     Zimbabwe  1999  Sub-Saharan Africa                       Low income   \n",
       "6465     Zimbabwe  2000  Sub-Saharan Africa                       Low income   \n",
       "6466     Zimbabwe  2001  Sub-Saharan Africa                       Low income   \n",
       "6467     Zimbabwe  2002  Sub-Saharan Africa                       Low income   \n",
       "\n",
       "      Adjusted savings: mineral depletion (current US$)  \\\n",
       "0                                          0.000000e+00   \n",
       "1                                          0.000000e+00   \n",
       "2                                          0.000000e+00   \n",
       "3                                          0.000000e+00   \n",
       "4                                          0.000000e+00   \n",
       "...                                                 ...   \n",
       "6463                                       3.574371e+06   \n",
       "6464                                       1.121581e+07   \n",
       "6465                                       2.259094e+07   \n",
       "6466                                       1.491629e+07   \n",
       "6467                                       2.946757e+07   \n",
       "\n",
       "      Adjusted savings: energy depletion (current US$)  Population (Total)  \\\n",
       "0                                         2.233065e+07          11644377.0   \n",
       "1                                         2.654146e+07          11966352.0   \n",
       "2                                         6.606462e+07          12273589.0   \n",
       "3                                         6.882184e+07          12551790.0   \n",
       "4                                         6.463635e+07          12806810.0   \n",
       "...                                                ...                 ...   \n",
       "6463                                      2.922644e+06          12229500.0   \n",
       "6464                                      0.000000e+00          12384727.0   \n",
       "6465                                      1.635434e+06          12503652.0   \n",
       "6466                                      2.523939e+07          12586763.0   \n",
       "6467                                      6.534920e+06          12640922.0   \n",
       "\n",
       "      Population growth (annual %)  \\\n",
       "0                         2.794796   \n",
       "1                         2.727531   \n",
       "2                         2.535101   \n",
       "3                         2.241357   \n",
       "4                         2.011378   \n",
       "...                            ...   \n",
       "6463                      1.513394   \n",
       "6464                      1.261295   \n",
       "6465                      0.955674   \n",
       "6466                      0.662494   \n",
       "6467                      0.429362   \n",
       "\n",
       "      Population density (people per sq. km of land area)  \\\n",
       "0                                             17.853176     \n",
       "1                                             18.346829     \n",
       "2                                             18.817885     \n",
       "3                                             19.244423     \n",
       "4                                             19.635420     \n",
       "...                                                 ...     \n",
       "6463                                          31.613028     \n",
       "6464                                          32.014287     \n",
       "6465                                          32.321706     \n",
       "6466                                          32.536546     \n",
       "6467                                          32.676546     \n",
       "\n",
       "      Rural population (% of total population)  Urban population (% of total)  \\\n",
       "0                                      88.0702                        11.9298   \n",
       "1                                      87.6208                        12.3792   \n",
       "2                                      87.1714                        12.8286   \n",
       "3                                      86.7220                        13.2780   \n",
       "4                                      86.2426                        13.7574   \n",
       "...                                        ...                            ...   \n",
       "6463                                   67.0524                        32.9476   \n",
       "6464                                   66.6472                        33.3528   \n",
       "6465                                   66.2420                        33.7580   \n",
       "6466                                   65.8216                        34.1784   \n",
       "6467                                   65.4012                        34.5988   \n",
       "\n",
       "      Rural population  Urban population  Urban population growth (annual %)  \\\n",
       "0           10255226.0         1389151.0                            6.634620   \n",
       "1           10485013.0         1481339.0                            6.425364   \n",
       "2           10699059.0         1574530.0                            6.101041   \n",
       "3           10885163.0         1666627.0                            5.684501   \n",
       "4           11044926.0         1761884.0                            5.558187   \n",
       "...                ...               ...                                 ...   \n",
       "6463         8200173.0         4029327.0                            2.750848   \n",
       "6464         8254074.0         4130653.0                            2.483614   \n",
       "6465         8282669.0         4220983.0                            2.163253   \n",
       "6466         8284809.0         4301954.0                            1.900130   \n",
       "6467         8267315.0         4373607.0                            1.651873   \n",
       "\n",
       "      Urban population 5 years in the future  \n",
       "0                                    1855690  \n",
       "1                                    1942479  \n",
       "2                                    2014500  \n",
       "3                                    2066033  \n",
       "4                                    2064276  \n",
       "...                                      ...  \n",
       "6463                                 4438019  \n",
       "6464                                 4498365  \n",
       "6465                                 4558017  \n",
       "6466                                 4620705  \n",
       "6467                                 4684302  \n",
       "\n",
       "[6468 rows x 15 columns]"
      ]
     },
     "execution_count": 2,
     "metadata": {},
     "output_type": "execute_result"
    }
   ],
   "source": [
    "# Read in the csv file containing the cleaned data\n",
    "df = pd.read_csv('Cleaned_Training_Set.csv', header=0)\n",
    "df = df.drop('Unnamed: 0', axis=1)\n",
    "df"
   ]
  },
  {
   "cell_type": "markdown",
   "metadata": {},
   "source": [
    "In order to use categorical variables in our model, we will need to assign them a numerical value, which is done in the two cells below."
   ]
  },
  {
   "cell_type": "code",
   "execution_count": 3,
   "metadata": {},
   "outputs": [
    {
     "name": "stderr",
     "output_type": "stream",
     "text": [
      "<ipython-input-3-d36bff42f33e>:2: SettingWithCopyWarning: \n",
      "A value is trying to be set on a copy of a slice from a DataFrame\n",
      "\n",
      "See the caveats in the documentation: https://pandas.pydata.org/pandas-docs/stable/user_guide/indexing.html#returning-a-view-versus-a-copy\n",
      "  df['World bank, 4 income groups 2017'][df['World bank, 4 income groups 2017'] == 'High income'] = 3\n",
      "<ipython-input-3-d36bff42f33e>:3: SettingWithCopyWarning: \n",
      "A value is trying to be set on a copy of a slice from a DataFrame\n",
      "\n",
      "See the caveats in the documentation: https://pandas.pydata.org/pandas-docs/stable/user_guide/indexing.html#returning-a-view-versus-a-copy\n",
      "  df['World bank, 4 income groups 2017'][df['World bank, 4 income groups 2017'] == 'Upper middle income'] = 2\n",
      "<ipython-input-3-d36bff42f33e>:4: SettingWithCopyWarning: \n",
      "A value is trying to be set on a copy of a slice from a DataFrame\n",
      "\n",
      "See the caveats in the documentation: https://pandas.pydata.org/pandas-docs/stable/user_guide/indexing.html#returning-a-view-versus-a-copy\n",
      "  df['World bank, 4 income groups 2017'][df['World bank, 4 income groups 2017'] == 'Lower middle income'] = 1\n",
      "<ipython-input-3-d36bff42f33e>:5: SettingWithCopyWarning: \n",
      "A value is trying to be set on a copy of a slice from a DataFrame\n",
      "\n",
      "See the caveats in the documentation: https://pandas.pydata.org/pandas-docs/stable/user_guide/indexing.html#returning-a-view-versus-a-copy\n",
      "  df['World bank, 4 income groups 2017'][df['World bank, 4 income groups 2017'] == 'Low income'] = 0\n"
     ]
    }
   ],
   "source": [
    "# Converting income groups to numerical value\n",
    "df['World bank, 4 income groups 2017'][df['World bank, 4 income groups 2017'] == 'High income'] = 3\n",
    "df['World bank, 4 income groups 2017'][df['World bank, 4 income groups 2017'] == 'Upper middle income'] = 2\n",
    "df['World bank, 4 income groups 2017'][df['World bank, 4 income groups 2017'] == 'Lower middle income'] = 1\n",
    "df['World bank, 4 income groups 2017'][df['World bank, 4 income groups 2017'] == 'Low income'] = 0"
   ]
  },
  {
   "cell_type": "code",
   "execution_count": 4,
   "metadata": {},
   "outputs": [
    {
     "name": "stderr",
     "output_type": "stream",
     "text": [
      "<ipython-input-4-38dad940a263>:2: SettingWithCopyWarning: \n",
      "A value is trying to be set on a copy of a slice from a DataFrame\n",
      "\n",
      "See the caveats in the documentation: https://pandas.pydata.org/pandas-docs/stable/user_guide/indexing.html#returning-a-view-versus-a-copy\n",
      "  df['World bank region'][df['World bank region'] == 'South Asia'] = 6\n",
      "<ipython-input-4-38dad940a263>:3: SettingWithCopyWarning: \n",
      "A value is trying to be set on a copy of a slice from a DataFrame\n",
      "\n",
      "See the caveats in the documentation: https://pandas.pydata.org/pandas-docs/stable/user_guide/indexing.html#returning-a-view-versus-a-copy\n",
      "  df['World bank region'][df['World bank region'] == 'Europe & Central Asia'] = 5\n",
      "<ipython-input-4-38dad940a263>:4: SettingWithCopyWarning: \n",
      "A value is trying to be set on a copy of a slice from a DataFrame\n",
      "\n",
      "See the caveats in the documentation: https://pandas.pydata.org/pandas-docs/stable/user_guide/indexing.html#returning-a-view-versus-a-copy\n",
      "  df['World bank region'][df['World bank region'] == 'Middle East & North Africa'] = 4\n",
      "<ipython-input-4-38dad940a263>:5: SettingWithCopyWarning: \n",
      "A value is trying to be set on a copy of a slice from a DataFrame\n",
      "\n",
      "See the caveats in the documentation: https://pandas.pydata.org/pandas-docs/stable/user_guide/indexing.html#returning-a-view-versus-a-copy\n",
      "  df['World bank region'][df['World bank region'] == 'East Asia & Pacific'] = 3\n",
      "<ipython-input-4-38dad940a263>:6: SettingWithCopyWarning: \n",
      "A value is trying to be set on a copy of a slice from a DataFrame\n",
      "\n",
      "See the caveats in the documentation: https://pandas.pydata.org/pandas-docs/stable/user_guide/indexing.html#returning-a-view-versus-a-copy\n",
      "  df['World bank region'][df['World bank region'] == 'Sub-Saharan Africa'] = 2\n",
      "<ipython-input-4-38dad940a263>:7: SettingWithCopyWarning: \n",
      "A value is trying to be set on a copy of a slice from a DataFrame\n",
      "\n",
      "See the caveats in the documentation: https://pandas.pydata.org/pandas-docs/stable/user_guide/indexing.html#returning-a-view-versus-a-copy\n",
      "  df['World bank region'][df['World bank region'] == 'Latin America & Caribbean'] = 1\n",
      "<ipython-input-4-38dad940a263>:8: SettingWithCopyWarning: \n",
      "A value is trying to be set on a copy of a slice from a DataFrame\n",
      "\n",
      "See the caveats in the documentation: https://pandas.pydata.org/pandas-docs/stable/user_guide/indexing.html#returning-a-view-versus-a-copy\n",
      "  df['World bank region'][df['World bank region'] == 'North America'] = 0\n"
     ]
    }
   ],
   "source": [
    "# Converting regions to numerical value\n",
    "df['World bank region'][df['World bank region'] == 'South Asia'] = 6\n",
    "df['World bank region'][df['World bank region'] == 'Europe & Central Asia'] = 5\n",
    "df['World bank region'][df['World bank region'] == 'Middle East & North Africa'] = 4\n",
    "df['World bank region'][df['World bank region'] == 'East Asia & Pacific'] = 3\n",
    "df['World bank region'][df['World bank region'] == 'Sub-Saharan Africa'] = 2\n",
    "df['World bank region'][df['World bank region'] == 'Latin America & Caribbean'] = 1\n",
    "df['World bank region'][df['World bank region'] == 'North America'] = 0"
   ]
  },
  {
   "cell_type": "code",
   "execution_count": 5,
   "metadata": {},
   "outputs": [],
   "source": [
    "df = df.drop('country', axis=1)"
   ]
  },
  {
   "cell_type": "code",
   "execution_count": 6,
   "metadata": {},
   "outputs": [
    {
     "data": {
      "text/html": [
       "<div>\n",
       "<style scoped>\n",
       "    .dataframe tbody tr th:only-of-type {\n",
       "        vertical-align: middle;\n",
       "    }\n",
       "\n",
       "    .dataframe tbody tr th {\n",
       "        vertical-align: top;\n",
       "    }\n",
       "\n",
       "    .dataframe thead th {\n",
       "        text-align: right;\n",
       "    }\n",
       "</style>\n",
       "<table border=\"1\" class=\"dataframe\">\n",
       "  <thead>\n",
       "    <tr style=\"text-align: right;\">\n",
       "      <th></th>\n",
       "      <th>year</th>\n",
       "      <th>World bank region</th>\n",
       "      <th>World bank, 4 income groups 2017</th>\n",
       "      <th>Adjusted savings: mineral depletion (current US$)</th>\n",
       "      <th>Adjusted savings: energy depletion (current US$)</th>\n",
       "      <th>Population (Total)</th>\n",
       "      <th>Population growth (annual %)</th>\n",
       "      <th>Population density (people per sq. km of land area)</th>\n",
       "      <th>Rural population (% of total population)</th>\n",
       "      <th>Urban population (% of total)</th>\n",
       "      <th>Rural population</th>\n",
       "      <th>Urban population</th>\n",
       "      <th>Urban population growth (annual %)</th>\n",
       "      <th>Urban population 5 years in the future</th>\n",
       "    </tr>\n",
       "  </thead>\n",
       "  <tbody>\n",
       "    <tr>\n",
       "      <th>0</th>\n",
       "      <td>1972</td>\n",
       "      <td>6</td>\n",
       "      <td>0</td>\n",
       "      <td>0.0</td>\n",
       "      <td>2.233065e+07</td>\n",
       "      <td>11644377.0</td>\n",
       "      <td>2.794796</td>\n",
       "      <td>17.853176</td>\n",
       "      <td>88.0702</td>\n",
       "      <td>11.9298</td>\n",
       "      <td>10255226.0</td>\n",
       "      <td>1389151.0</td>\n",
       "      <td>6.634620</td>\n",
       "      <td>1855690</td>\n",
       "    </tr>\n",
       "    <tr>\n",
       "      <th>1</th>\n",
       "      <td>1973</td>\n",
       "      <td>6</td>\n",
       "      <td>0</td>\n",
       "      <td>0.0</td>\n",
       "      <td>2.654146e+07</td>\n",
       "      <td>11966352.0</td>\n",
       "      <td>2.727531</td>\n",
       "      <td>18.346829</td>\n",
       "      <td>87.6208</td>\n",
       "      <td>12.3792</td>\n",
       "      <td>10485013.0</td>\n",
       "      <td>1481339.0</td>\n",
       "      <td>6.425364</td>\n",
       "      <td>1942479</td>\n",
       "    </tr>\n",
       "    <tr>\n",
       "      <th>2</th>\n",
       "      <td>1974</td>\n",
       "      <td>6</td>\n",
       "      <td>0</td>\n",
       "      <td>0.0</td>\n",
       "      <td>6.606462e+07</td>\n",
       "      <td>12273589.0</td>\n",
       "      <td>2.535101</td>\n",
       "      <td>18.817885</td>\n",
       "      <td>87.1714</td>\n",
       "      <td>12.8286</td>\n",
       "      <td>10699059.0</td>\n",
       "      <td>1574530.0</td>\n",
       "      <td>6.101041</td>\n",
       "      <td>2014500</td>\n",
       "    </tr>\n",
       "    <tr>\n",
       "      <th>3</th>\n",
       "      <td>1975</td>\n",
       "      <td>6</td>\n",
       "      <td>0</td>\n",
       "      <td>0.0</td>\n",
       "      <td>6.882184e+07</td>\n",
       "      <td>12551790.0</td>\n",
       "      <td>2.241357</td>\n",
       "      <td>19.244423</td>\n",
       "      <td>86.7220</td>\n",
       "      <td>13.2780</td>\n",
       "      <td>10885163.0</td>\n",
       "      <td>1666627.0</td>\n",
       "      <td>5.684501</td>\n",
       "      <td>2066033</td>\n",
       "    </tr>\n",
       "    <tr>\n",
       "      <th>4</th>\n",
       "      <td>1976</td>\n",
       "      <td>6</td>\n",
       "      <td>0</td>\n",
       "      <td>0.0</td>\n",
       "      <td>6.463635e+07</td>\n",
       "      <td>12806810.0</td>\n",
       "      <td>2.011378</td>\n",
       "      <td>19.635420</td>\n",
       "      <td>86.2426</td>\n",
       "      <td>13.7574</td>\n",
       "      <td>11044926.0</td>\n",
       "      <td>1761884.0</td>\n",
       "      <td>5.558187</td>\n",
       "      <td>2064276</td>\n",
       "    </tr>\n",
       "  </tbody>\n",
       "</table>\n",
       "</div>"
      ],
      "text/plain": [
       "   year World bank region World bank, 4 income groups 2017  \\\n",
       "0  1972                 6                                0   \n",
       "1  1973                 6                                0   \n",
       "2  1974                 6                                0   \n",
       "3  1975                 6                                0   \n",
       "4  1976                 6                                0   \n",
       "\n",
       "   Adjusted savings: mineral depletion (current US$)  \\\n",
       "0                                                0.0   \n",
       "1                                                0.0   \n",
       "2                                                0.0   \n",
       "3                                                0.0   \n",
       "4                                                0.0   \n",
       "\n",
       "   Adjusted savings: energy depletion (current US$)  Population (Total)  \\\n",
       "0                                      2.233065e+07          11644377.0   \n",
       "1                                      2.654146e+07          11966352.0   \n",
       "2                                      6.606462e+07          12273589.0   \n",
       "3                                      6.882184e+07          12551790.0   \n",
       "4                                      6.463635e+07          12806810.0   \n",
       "\n",
       "   Population growth (annual %)  \\\n",
       "0                      2.794796   \n",
       "1                      2.727531   \n",
       "2                      2.535101   \n",
       "3                      2.241357   \n",
       "4                      2.011378   \n",
       "\n",
       "   Population density (people per sq. km of land area)  \\\n",
       "0                                          17.853176     \n",
       "1                                          18.346829     \n",
       "2                                          18.817885     \n",
       "3                                          19.244423     \n",
       "4                                          19.635420     \n",
       "\n",
       "   Rural population (% of total population)  Urban population (% of total)  \\\n",
       "0                                   88.0702                        11.9298   \n",
       "1                                   87.6208                        12.3792   \n",
       "2                                   87.1714                        12.8286   \n",
       "3                                   86.7220                        13.2780   \n",
       "4                                   86.2426                        13.7574   \n",
       "\n",
       "   Rural population  Urban population  Urban population growth (annual %)  \\\n",
       "0        10255226.0         1389151.0                            6.634620   \n",
       "1        10485013.0         1481339.0                            6.425364   \n",
       "2        10699059.0         1574530.0                            6.101041   \n",
       "3        10885163.0         1666627.0                            5.684501   \n",
       "4        11044926.0         1761884.0                            5.558187   \n",
       "\n",
       "   Urban population 5 years in the future  \n",
       "0                                 1855690  \n",
       "1                                 1942479  \n",
       "2                                 2014500  \n",
       "3                                 2066033  \n",
       "4                                 2064276  "
      ]
     },
     "execution_count": 6,
     "metadata": {},
     "output_type": "execute_result"
    }
   ],
   "source": [
    "df.head()"
   ]
  },
  {
   "cell_type": "code",
   "execution_count": 7,
   "metadata": {},
   "outputs": [],
   "source": [
    "# Assign predictors to X and target feature to y\n",
    "X = df.drop('Urban population 5 years in the future', axis=1).values\n",
    "y = df['Urban population 5 years in the future'].values"
   ]
  },
  {
   "cell_type": "markdown",
   "metadata": {},
   "source": [
    "### Train-Test Split"
   ]
  },
  {
   "cell_type": "code",
   "execution_count": 8,
   "metadata": {},
   "outputs": [],
   "source": [
    "X_train, X_test, y_train, y_test = train_test_split(X, y, test_size=0.2, random_state=42)"
   ]
  },
  {
   "cell_type": "markdown",
   "metadata": {},
   "source": [
    "### Lasso Regression"
   ]
  },
  {
   "cell_type": "code",
   "execution_count": 9,
   "metadata": {},
   "outputs": [
    {
     "name": "stderr",
     "output_type": "stream",
     "text": [
      "/usr/local/lib/python3.8/site-packages/sklearn/linear_model/_coordinate_descent.py:529: ConvergenceWarning: Objective did not converge. You might want to increase the number of iterations. Duality gap: 711106807369934.0, tolerance: 685606148985964.1\n",
      "  model = cd_fast.enet_coordinate_descent(\n",
      "/usr/local/lib/python3.8/site-packages/sklearn/linear_model/_coordinate_descent.py:529: ConvergenceWarning: Objective did not converge. You might want to increase the number of iterations. Duality gap: 923295209671784.0, tolerance: 871357552392484.8\n",
      "  model = cd_fast.enet_coordinate_descent(\n"
     ]
    },
    {
     "name": "stdout",
     "output_type": "stream",
     "text": [
      "0.9977219034214142\n",
      "[ 6.67326513e+03 -1.48818431e+05  1.38508127e+05  6.60493228e-04\n",
      " -5.23868774e-05  1.74726331e-01 -1.93739121e+03  2.33940428e+01\n",
      "  2.10292616e+03 -1.08644470e-09 -1.32790356e-01  9.06848403e-01\n",
      "  1.52003556e+05]\n"
     ]
    },
    {
     "data": {
      "image/png": "[encoded data removed]",
      "text/plain": [
       "<Figure size 1008x576 with 1 Axes>"
      ]
     },
     "metadata": {
      "needs_background": "light"
     },
     "output_type": "display_data"
    }
   ],
   "source": [
    "# To determine which features are the best predictors of the target variable\n",
    "X_cols = df.columns.drop('Urban population 5 years in the future')\n",
    "\n",
    "lasso = Lasso(alpha=0.5, normalize=True)\n",
    "lasso.fit(X_train, y_train)\n",
    "lasso_pred = lasso.predict(X_test)\n",
    "lasso.score(X_test, y_test)\n",
    "lasso_coef = lasso.fit(X, y).coef_\n",
    "\n",
    "print(lasso.score(X_test, y_test))\n",
    "print(lasso_coef)\n",
    "\n",
    "_ = plt.figure(figsize=(14,8))\n",
    "_ = plt.plot(range(len(X_cols)), lasso_coef)\n",
    "_ = plt.xticks(range(len(X_cols)), X_cols.values, rotation=90)\n",
    "_ = plt.margins(0.02)\n",
    "plt.savefig('Lasso Regression.png')\n",
    "plt.show()\n"
   ]
  },
  {
   "cell_type": "markdown",
   "metadata": {},
   "source": [
    "Here we can see that the 3 biggest predictors of urban population five years in the future are the region, income group, and the urban population growth as an annual percentage."
   ]
  },
  {
   "cell_type": "markdown",
   "metadata": {},
   "source": [
    "### Ridge Regression"
   ]
  },
  {
   "cell_type": "code",
   "execution_count": 10,
   "metadata": {},
   "outputs": [],
   "source": [
    "ridge = Ridge(alpha=0.1, normalize=True)"
   ]
  },
  {
   "cell_type": "code",
   "execution_count": 11,
   "metadata": {},
   "outputs": [
    {
     "data": {
      "text/plain": [
       "Ridge(alpha=0.1, normalize=True)"
      ]
     },
     "execution_count": 11,
     "metadata": {},
     "output_type": "execute_result"
    }
   ],
   "source": [
    "ridge.fit(X_train, y_train)"
   ]
  },
  {
   "cell_type": "code",
   "execution_count": 12,
   "metadata": {},
   "outputs": [],
   "source": [
    "ridge_pred = ridge.predict(X_test)"
   ]
  },
  {
   "cell_type": "code",
   "execution_count": 13,
   "metadata": {},
   "outputs": [
    {
     "data": {
      "text/plain": [
       "0.985649736259959"
      ]
     },
     "execution_count": 13,
     "metadata": {},
     "output_type": "execute_result"
    }
   ],
   "source": [
    "ridge.score(X_test, y_test)"
   ]
  },
  {
   "cell_type": "markdown",
   "metadata": {},
   "source": [
    "### Linear Regression"
   ]
  },
  {
   "cell_type": "code",
   "execution_count": 14,
   "metadata": {},
   "outputs": [],
   "source": [
    "reg = LinearRegression()"
   ]
  },
  {
   "cell_type": "code",
   "execution_count": 15,
   "metadata": {},
   "outputs": [
    {
     "data": {
      "text/plain": [
       "LinearRegression()"
      ]
     },
     "execution_count": 15,
     "metadata": {},
     "output_type": "execute_result"
    }
   ],
   "source": [
    "reg.fit(X_train, y_train)"
   ]
  },
  {
   "cell_type": "code",
   "execution_count": 16,
   "metadata": {},
   "outputs": [],
   "source": [
    "y_pred = reg.predict(X_test)"
   ]
  },
  {
   "cell_type": "code",
   "execution_count": 17,
   "metadata": {},
   "outputs": [
    {
     "data": {
      "text/plain": [
       "0.9976435077306649"
      ]
     },
     "execution_count": 17,
     "metadata": {},
     "output_type": "execute_result"
    }
   ],
   "source": [
    "reg.score(X_test, y_test)"
   ]
  },
  {
   "cell_type": "markdown",
   "metadata": {},
   "source": [
    "### Cross Validation"
   ]
  },
  {
   "cell_type": "code",
   "execution_count": 18,
   "metadata": {},
   "outputs": [
    {
     "data": {
      "text/plain": [
       "array([0.99497174, 0.99437078, 0.99512319, 0.99407353, 0.99818856])"
      ]
     },
     "execution_count": 18,
     "metadata": {},
     "output_type": "execute_result"
    }
   ],
   "source": [
    "cv_results = cross_val_score(reg, X, y, cv=5)\n",
    "cv_results"
   ]
  },
  {
   "cell_type": "code",
   "execution_count": 19,
   "metadata": {},
   "outputs": [
    {
     "data": {
      "text/plain": [
       "0.9953455591640209"
      ]
     },
     "execution_count": 19,
     "metadata": {},
     "output_type": "execute_result"
    }
   ],
   "source": [
    "np.mean(cv_results)"
   ]
  },
  {
   "cell_type": "markdown",
   "metadata": {},
   "source": [
    "Without using cross validation, we get a score of 0.9977 for our linear regression. When using cross-validation, we get a minimum score of 0.9941, a maximum score of 0.9982, and an average score of 0.9953. Because the accuracy of a model can be affected by something as arbitrary as how the data is split into testing and training groups, we use cross validation to see a range of estimated scores."
   ]
  },
  {
   "cell_type": "code",
   "execution_count": 20,
   "metadata": {},
   "outputs": [],
   "source": [
    "# The next step would be to check for overfitting."
   ]
  }
 ],
 "metadata": {
  "kernelspec": {
   "display_name": "Python 3",
   "language": "python",
   "name": "python3"
  },
  "language_info": {
   "codemirror_mode": {
    "name": "ipython",
    "version": 3
   },
   "file_extension": ".py",
   "mimetype": "text/x-python",
   "name": "python",
   "nbconvert_exporter": "python",
   "pygments_lexer": "ipython3",
   "version": "3.8.5"
  }
 },
 "nbformat": 4,
 "nbformat_minor": 4
}
